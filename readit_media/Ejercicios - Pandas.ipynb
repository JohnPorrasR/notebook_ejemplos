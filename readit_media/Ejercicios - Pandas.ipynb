{
 "cells": [
  {
   "cell_type": "markdown",
   "metadata": {},
   "source": [
    "## Ejercicio 1\n",
    "* Crear una lista \"asignaturas\" con textos \"matematicas\",\"fisica\",\"historia\"\n",
    "* Crear una lista \"notas\" con valores 9,9,8\n",
    "* Crear una serie con la lista \"notas\" como valores, y la lista \"Asignaturas\" como indeices\n",
    "* Crear la variable \"nota_fisica\" con la nota de la asignatura de \"fisica\"\n",
    "* Mediante el metodo print muestre \"la nota de fisica es\""
   ]
  },
  {
   "cell_type": "code",
   "execution_count": 1,
   "metadata": {},
   "outputs": [],
   "source": [
    "import pandas as pd\n",
    "import numpy as np"
   ]
  },
  {
   "cell_type": "code",
   "execution_count": 3,
   "metadata": {},
   "outputs": [
    {
     "data": {
      "text/plain": [
       "['matematicas', 'fisica', 'historia']"
      ]
     },
     "execution_count": 3,
     "metadata": {},
     "output_type": "execute_result"
    }
   ],
   "source": [
    "asignaturas = [\"matematicas\",\"fisica\",\"historia\"]\n",
    "asignaturas"
   ]
  },
  {
   "cell_type": "code",
   "execution_count": 4,
   "metadata": {},
   "outputs": [
    {
     "data": {
      "text/plain": [
       "[9, 9, 8]"
      ]
     },
     "execution_count": 4,
     "metadata": {},
     "output_type": "execute_result"
    }
   ],
   "source": [
    "notas = [9,9,8]\n",
    "notas"
   ]
  },
  {
   "cell_type": "code",
   "execution_count": 5,
   "metadata": {},
   "outputs": [
    {
     "data": {
      "text/plain": [
       "matematicas    9\n",
       "fisica         9\n",
       "historia       8\n",
       "dtype: int64"
      ]
     },
     "execution_count": 5,
     "metadata": {},
     "output_type": "execute_result"
    }
   ],
   "source": [
    "serie = pd.Series(data=notas, index=asignaturas)\n",
    "serie"
   ]
  },
  {
   "cell_type": "code",
   "execution_count": 6,
   "metadata": {},
   "outputs": [
    {
     "data": {
      "text/plain": [
       "9"
      ]
     },
     "execution_count": 6,
     "metadata": {},
     "output_type": "execute_result"
    }
   ],
   "source": [
    "nota_fisica = serie['fisica']\n",
    "nota_fisica"
   ]
  },
  {
   "cell_type": "code",
   "execution_count": 7,
   "metadata": {},
   "outputs": [
    {
     "name": "stdout",
     "output_type": "stream",
     "text": [
      "La nota de fisica es un 9\n"
     ]
    }
   ],
   "source": [
    "print(\"La nota de fisica es un {}\".format(nota_fisica))"
   ]
  },
  {
   "cell_type": "markdown",
   "metadata": {},
   "source": [
    "## Ejercicio 2\n",
    "El objetivo será crear un dataframe con las ventas de nuestras 3 oficinas para los meses de enero, febrero y marzo\n",
    "* Crear una variable \"ventas_enero\" que contenga una lista de números enteros aleatorios entre 100 y 500\n",
    "* Crear una variable \"ventas_febrero\" que contenga una lista de números enteros aleatorios entre 100 y 500\n",
    "* Crear una variable \"ventas_marzo\" que contenga una lista de números enteros aleatorios entre 100 y 500\n",
    "* Crear una variable \"filas\" que contenga esta lista de palabras: 'ventas_enero', 'ventas_febrero', 'ventas_marzo'\n",
    "* Crear una variable \"columnas\" que contenga esta lista de palabras: 'oficina1', 'oficina2', 'oficina3'\n",
    "* Crear una variable \"ventas\" que contenga una lista con los valores de ventas de enero, febrero y marzo\n",
    "* Crear una variable \"dataframne\" que contenga las ventas, filas y columnas\n",
    "mediante \"print\" muestre el valor de \"Las ventas de enero para la oficina 1 son de ...\""
   ]
  },
  {
   "cell_type": "code",
   "execution_count": 9,
   "metadata": {},
   "outputs": [
    {
     "data": {
      "text/plain": [
       "array([439, 148, 449])"
      ]
     },
     "execution_count": 9,
     "metadata": {},
     "output_type": "execute_result"
    }
   ],
   "source": [
    "ventas_enero = np.random.randint(100,500,3)\n",
    "ventas_enero"
   ]
  },
  {
   "cell_type": "code",
   "execution_count": 10,
   "metadata": {},
   "outputs": [
    {
     "data": {
      "text/plain": [
       "array([163, 236, 232])"
      ]
     },
     "execution_count": 10,
     "metadata": {},
     "output_type": "execute_result"
    }
   ],
   "source": [
    "ventas_febrero = np.random.randint(100,500,3)\n",
    "ventas_febrero"
   ]
  },
  {
   "cell_type": "code",
   "execution_count": 11,
   "metadata": {},
   "outputs": [
    {
     "data": {
      "text/plain": [
       "array([250, 368, 242])"
      ]
     },
     "execution_count": 11,
     "metadata": {},
     "output_type": "execute_result"
    }
   ],
   "source": [
    "ventas_marzo = np.random.randint(100,500,3)\n",
    "ventas_marzo"
   ]
  },
  {
   "cell_type": "code",
   "execution_count": 12,
   "metadata": {},
   "outputs": [
    {
     "data": {
      "text/plain": [
       "['ventas_enero', 'ventas_febrero', 'ventas_marzo']"
      ]
     },
     "execution_count": 12,
     "metadata": {},
     "output_type": "execute_result"
    }
   ],
   "source": [
    "filas = ['ventas_enero', 'ventas_febrero', 'ventas_marzo']\n",
    "filas"
   ]
  },
  {
   "cell_type": "code",
   "execution_count": 13,
   "metadata": {},
   "outputs": [
    {
     "data": {
      "text/plain": [
       "['oficina1', 'oficina2', 'oficina3']"
      ]
     },
     "execution_count": 13,
     "metadata": {},
     "output_type": "execute_result"
    }
   ],
   "source": [
    "columnas = ['oficina1', 'oficina2', 'oficina3']\n",
    "columnas"
   ]
  },
  {
   "cell_type": "code",
   "execution_count": 14,
   "metadata": {},
   "outputs": [
    {
     "data": {
      "text/plain": [
       "[array([439, 148, 449]), array([163, 236, 232]), array([250, 368, 242])]"
      ]
     },
     "execution_count": 14,
     "metadata": {},
     "output_type": "execute_result"
    }
   ],
   "source": [
    "ventas = [ventas_enero, ventas_febrero, ventas_marzo]\n",
    "ventas"
   ]
  },
  {
   "cell_type": "code",
   "execution_count": 15,
   "metadata": {},
   "outputs": [
    {
     "data": {
      "text/html": [
       "<div>\n",
       "<style scoped>\n",
       "    .dataframe tbody tr th:only-of-type {\n",
       "        vertical-align: middle;\n",
       "    }\n",
       "\n",
       "    .dataframe tbody tr th {\n",
       "        vertical-align: top;\n",
       "    }\n",
       "\n",
       "    .dataframe thead th {\n",
       "        text-align: right;\n",
       "    }\n",
       "</style>\n",
       "<table border=\"1\" class=\"dataframe\">\n",
       "  <thead>\n",
       "    <tr style=\"text-align: right;\">\n",
       "      <th></th>\n",
       "      <th>oficina1</th>\n",
       "      <th>oficina2</th>\n",
       "      <th>oficina3</th>\n",
       "    </tr>\n",
       "  </thead>\n",
       "  <tbody>\n",
       "    <tr>\n",
       "      <th>ventas_enero</th>\n",
       "      <td>439</td>\n",
       "      <td>148</td>\n",
       "      <td>449</td>\n",
       "    </tr>\n",
       "    <tr>\n",
       "      <th>ventas_febrero</th>\n",
       "      <td>163</td>\n",
       "      <td>236</td>\n",
       "      <td>232</td>\n",
       "    </tr>\n",
       "    <tr>\n",
       "      <th>ventas_marzo</th>\n",
       "      <td>250</td>\n",
       "      <td>368</td>\n",
       "      <td>242</td>\n",
       "    </tr>\n",
       "  </tbody>\n",
       "</table>\n",
       "</div>"
      ],
      "text/plain": [
       "                oficina1  oficina2  oficina3\n",
       "ventas_enero         439       148       449\n",
       "ventas_febrero       163       236       232\n",
       "ventas_marzo         250       368       242"
      ]
     },
     "execution_count": 15,
     "metadata": {},
     "output_type": "execute_result"
    }
   ],
   "source": [
    "# data, filas, columnas\n",
    "dataframne = pd.DataFrame(ventas, filas, columnas)\n",
    "dataframne"
   ]
  },
  {
   "cell_type": "code",
   "execution_count": null,
   "metadata": {},
   "outputs": [],
   "source": [
    "print('')"
   ]
  }
 ],
 "metadata": {
  "kernelspec": {
   "display_name": "Python 3",
   "language": "python",
   "name": "python3"
  },
  "language_info": {
   "codemirror_mode": {
    "name": "ipython",
    "version": 3
   },
   "file_extension": ".py",
   "mimetype": "text/x-python",
   "name": "python",
   "nbconvert_exporter": "python",
   "pygments_lexer": "ipython3",
   "version": "3.8.3"
  }
 },
 "nbformat": 4,
 "nbformat_minor": 4
}
